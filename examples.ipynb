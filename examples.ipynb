{
 "cells": [
  {
   "cell_type": "code",
   "execution_count": 1,
   "metadata": {},
   "outputs": [
    {
     "name": "stdout",
     "output_type": "stream",
     "text": [
      "Intel MKL WARNING: Support of Intel(R) Streaming SIMD Extensions 4.2 (Intel(R) SSE4.2) enabled only processors has been deprecated. Intel oneAPI Math Kernel Library 2025.0 will require Intel(R) Advanced Vector Extensions (Intel(R) AVX) instructions.\n",
      "Intel MKL WARNING: Support of Intel(R) Streaming SIMD Extensions 4.2 (Intel(R) SSE4.2) enabled only processors has been deprecated. Intel oneAPI Math Kernel Library 2025.0 will require Intel(R) Advanced Vector Extensions (Intel(R) AVX) instructions.\n"
     ]
    }
   ],
   "source": [
    "import numpy as np\n",
    "import sympy as sp\n",
    "from array import array\n",
    "from utils import *"
   ]
  },
  {
   "cell_type": "markdown",
   "metadata": {},
   "source": [
    "## Esempio 26a"
   ]
  },
  {
   "cell_type": "code",
   "execution_count": 3,
   "metadata": {},
   "outputs": [
    {
     "data": {
      "text/plain": [
       "[[[a**3, a**2*b], [a*b**2, a**2*b]], [[a*b**2, b**3], [a*b**2, a**2*b]]]"
      ]
     },
     "execution_count": 3,
     "metadata": {},
     "output_type": "execute_result"
    }
   ],
   "source": [
    "a = sp.symbols(\"a\")\n",
    "b = sp.symbols(\"b\")\n",
    "T1o = sp.MutableDenseNDimArray([a,b])\n",
    "T2o = sp.MutableDenseNDimArray([[a,b],[b,a]])\n",
    "T3o = sp.MutableDenseNDimArray([[a,b],[b,a]])\n",
    "T1 = forget(blow(T1o),2)\n",
    "T2 = blow(T2o)\n",
    "T3 = forget(T3o,0)\n",
    "list(general_BM_product([T1,T2,T3]))"
   ]
  },
  {
   "cell_type": "markdown",
   "metadata": {},
   "source": [
    "## Esempio 26b"
   ]
  },
  {
   "cell_type": "code",
   "execution_count": 4,
   "metadata": {},
   "outputs": [
    {
     "data": {
      "text/plain": [
       "[[[a**3, a**2*b], [a**2*b, a*b**2]], [[a*b**2, b**3], [a**2*b, a*b**2]]]"
      ]
     },
     "execution_count": 4,
     "metadata": {},
     "output_type": "execute_result"
    }
   ],
   "source": [
    "a = sp.symbols(\"a\")\n",
    "b = sp.symbols(\"b\")\n",
    "T1o = sp.MutableDenseNDimArray([a,b])\n",
    "T2o = sp.MutableDenseNDimArray([[a,b],[b,a]])\n",
    "T3o = T1o\n",
    "T1 = forget(blow(T1o),2)\n",
    "T2 = blow(T2o)\n",
    "T3 = forget(forget(T3o,0),1)\n",
    "list(general_BM_product([T1,T2,T3]))"
   ]
  },
  {
   "cell_type": "markdown",
   "metadata": {},
   "source": [
    "## Example 28"
   ]
  },
  {
   "cell_type": "code",
   "execution_count": 2,
   "metadata": {},
   "outputs": [
    {
     "data": {
      "text/plain": [
       "[[[[[alpha**5, alpha**4*beta], [alpha**3*beta**2, alpha**4*beta]], [[alpha**3*beta**2, alpha**2*beta**3], [alpha**3*beta**2, alpha**4*beta]]], [[[alpha**2*beta**3, alpha**3*beta**2], [alpha*beta**4, alpha**2*beta**3]], [[alpha**2*beta**3, alpha**3*beta**2], [alpha**3*beta**2, alpha**4*beta]]]],\n",
       " [[[[alpha**2*beta**3, alpha*beta**4], [beta**5, alpha*beta**4]], [[alpha**2*beta**3, alpha*beta**4], [alpha**2*beta**3, alpha**3*beta**2]]], [[[alpha**2*beta**3, alpha**3*beta**2], [alpha*beta**4, alpha**2*beta**3]], [[alpha**2*beta**3, alpha**3*beta**2], [alpha**3*beta**2, alpha**4*beta]]]]]"
      ]
     },
     "execution_count": 2,
     "metadata": {},
     "output_type": "execute_result"
    }
   ],
   "source": [
    "alpha = sp.symbols(\"alpha\")\n",
    "beta = sp.symbols(\"beta\")\n",
    "\n",
    "A = sp.MutableDenseNDimArray([alpha,beta])\n",
    "B = sp.MutableDenseNDimArray([[alpha,beta],[beta,alpha]])\n",
    "D = B\n",
    "C = sp.MutableDenseNDimArray([[[alpha,beta],[beta,alpha]],[[beta,alpha],[beta,alpha]]])\n",
    "E = C\n",
    "\n",
    "A = forget(forget(forget(blow(A),2),3),4)\n",
    "B = forget(forget(blow(B),3),4)\n",
    "C = forget(blow(C),4)\n",
    "D = blow(forget(forget(D,0),1))\n",
    "\n",
    "E = forget(forget(E,0),2)\n",
    "\n",
    "list(general_BM_product([A,B,C,D,E]))\n",
    "\n"
   ]
  },
  {
   "cell_type": "code",
   "execution_count": null,
   "metadata": {},
   "outputs": [],
   "source": []
  }
 ],
 "metadata": {
  "kernelspec": {
   "display_name": "tensors",
   "language": "python",
   "name": "python3"
  },
  "language_info": {
   "codemirror_mode": {
    "name": "ipython",
    "version": 3
   },
   "file_extension": ".py",
   "mimetype": "text/x-python",
   "name": "python",
   "nbconvert_exporter": "python",
   "pygments_lexer": "ipython3",
   "version": "3.11.4"
  },
  "orig_nbformat": 4
 },
 "nbformat": 4,
 "nbformat_minor": 2
}
